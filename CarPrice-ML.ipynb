{
 "cells": [
  {
   "cell_type": "code",
   "execution_count": 1,
   "id": "2f524cea-46fb-499b-b6e1-3b308bea8ca2",
   "metadata": {},
   "outputs": [],
   "source": [
    "import numpy as np\n",
    "import pandas as pd\n",
    "%matplotlib inline\n",
    "import matplotlib.pyplot as plt\n",
    "from sklearn.impute import SimpleImputer\n",
    "from sklearn.compose import ColumnTransformer\n",
    "from sklearn.preprocessing import OneHotEncoder\n",
    "from sklearn.ensemble import RandomForestRegressor\n",
    "from sklearn.model_selection import cross_val_score"
   ]
  },
  {
   "cell_type": "markdown",
   "id": "3f6fbd73-dbff-4c0c-bf8b-dbc6623173aa",
   "metadata": {},
   "source": [
    "#### -> loading dataset"
   ]
  },
  {
   "cell_type": "code",
   "execution_count": 2,
   "id": "e2e4c4d6-2a57-4168-81a7-0d77f5b9ea59",
   "metadata": {},
   "outputs": [
    {
     "data": {
      "text/html": [
       "<div>\n",
       "<style scoped>\n",
       "    .dataframe tbody tr th:only-of-type {\n",
       "        vertical-align: middle;\n",
       "    }\n",
       "\n",
       "    .dataframe tbody tr th {\n",
       "        vertical-align: top;\n",
       "    }\n",
       "\n",
       "    .dataframe thead th {\n",
       "        text-align: right;\n",
       "    }\n",
       "</style>\n",
       "<table border=\"1\" class=\"dataframe\">\n",
       "  <thead>\n",
       "    <tr style=\"text-align: right;\">\n",
       "      <th></th>\n",
       "      <th>Make</th>\n",
       "      <th>Colour</th>\n",
       "      <th>Odometer (KM)</th>\n",
       "      <th>Doors</th>\n",
       "      <th>Price</th>\n",
       "    </tr>\n",
       "  </thead>\n",
       "  <tbody>\n",
       "    <tr>\n",
       "      <th>0</th>\n",
       "      <td>Honda</td>\n",
       "      <td>White</td>\n",
       "      <td>35431.0</td>\n",
       "      <td>4.0</td>\n",
       "      <td>15323.0</td>\n",
       "    </tr>\n",
       "    <tr>\n",
       "      <th>1</th>\n",
       "      <td>BMW</td>\n",
       "      <td>Blue</td>\n",
       "      <td>192714.0</td>\n",
       "      <td>5.0</td>\n",
       "      <td>19943.0</td>\n",
       "    </tr>\n",
       "    <tr>\n",
       "      <th>2</th>\n",
       "      <td>Honda</td>\n",
       "      <td>White</td>\n",
       "      <td>84714.0</td>\n",
       "      <td>4.0</td>\n",
       "      <td>28343.0</td>\n",
       "    </tr>\n",
       "    <tr>\n",
       "      <th>3</th>\n",
       "      <td>Toyota</td>\n",
       "      <td>White</td>\n",
       "      <td>154365.0</td>\n",
       "      <td>4.0</td>\n",
       "      <td>13434.0</td>\n",
       "    </tr>\n",
       "    <tr>\n",
       "      <th>4</th>\n",
       "      <td>Nissan</td>\n",
       "      <td>Blue</td>\n",
       "      <td>181577.0</td>\n",
       "      <td>3.0</td>\n",
       "      <td>14043.0</td>\n",
       "    </tr>\n",
       "    <tr>\n",
       "      <th>...</th>\n",
       "      <td>...</td>\n",
       "      <td>...</td>\n",
       "      <td>...</td>\n",
       "      <td>...</td>\n",
       "      <td>...</td>\n",
       "    </tr>\n",
       "    <tr>\n",
       "      <th>995</th>\n",
       "      <td>Toyota</td>\n",
       "      <td>Black</td>\n",
       "      <td>35820.0</td>\n",
       "      <td>4.0</td>\n",
       "      <td>32042.0</td>\n",
       "    </tr>\n",
       "    <tr>\n",
       "      <th>996</th>\n",
       "      <td>NaN</td>\n",
       "      <td>White</td>\n",
       "      <td>155144.0</td>\n",
       "      <td>3.0</td>\n",
       "      <td>5716.0</td>\n",
       "    </tr>\n",
       "    <tr>\n",
       "      <th>997</th>\n",
       "      <td>Nissan</td>\n",
       "      <td>Blue</td>\n",
       "      <td>66604.0</td>\n",
       "      <td>4.0</td>\n",
       "      <td>31570.0</td>\n",
       "    </tr>\n",
       "    <tr>\n",
       "      <th>998</th>\n",
       "      <td>Honda</td>\n",
       "      <td>White</td>\n",
       "      <td>215883.0</td>\n",
       "      <td>4.0</td>\n",
       "      <td>4001.0</td>\n",
       "    </tr>\n",
       "    <tr>\n",
       "      <th>999</th>\n",
       "      <td>Toyota</td>\n",
       "      <td>Blue</td>\n",
       "      <td>248360.0</td>\n",
       "      <td>4.0</td>\n",
       "      <td>12732.0</td>\n",
       "    </tr>\n",
       "  </tbody>\n",
       "</table>\n",
       "<p>1000 rows × 5 columns</p>\n",
       "</div>"
      ],
      "text/plain": [
       "       Make Colour  Odometer (KM)  Doors    Price\n",
       "0     Honda  White        35431.0    4.0  15323.0\n",
       "1       BMW   Blue       192714.0    5.0  19943.0\n",
       "2     Honda  White        84714.0    4.0  28343.0\n",
       "3    Toyota  White       154365.0    4.0  13434.0\n",
       "4    Nissan   Blue       181577.0    3.0  14043.0\n",
       "..      ...    ...            ...    ...      ...\n",
       "995  Toyota  Black        35820.0    4.0  32042.0\n",
       "996     NaN  White       155144.0    3.0   5716.0\n",
       "997  Nissan   Blue        66604.0    4.0  31570.0\n",
       "998   Honda  White       215883.0    4.0   4001.0\n",
       "999  Toyota   Blue       248360.0    4.0  12732.0\n",
       "\n",
       "[1000 rows x 5 columns]"
      ]
     },
     "execution_count": 2,
     "metadata": {},
     "output_type": "execute_result"
    }
   ],
   "source": [
    "car_sales_missing = pd.read_csv(\"car-sales-extended-missing-data.csv\")\n",
    "car_sales_missing"
   ]
  },
  {
   "cell_type": "markdown",
   "id": "b8efdd52-610f-4f3a-a9ab-da8e8820ef4b",
   "metadata": {},
   "source": [
    "#### -> removing empty spaces in y label"
   ]
  },
  {
   "cell_type": "code",
   "execution_count": 3,
   "id": "9a94e4cb-0365-4d1f-b55d-967f143f57ce",
   "metadata": {},
   "outputs": [
    {
     "data": {
      "text/plain": [
       "Make             49\n",
       "Colour           50\n",
       "Odometer (KM)    50\n",
       "Doors            50\n",
       "Price            50\n",
       "dtype: int64"
      ]
     },
     "execution_count": 3,
     "metadata": {},
     "output_type": "execute_result"
    }
   ],
   "source": [
    "car_sales_missing.isna().sum()"
   ]
  },
  {
   "cell_type": "code",
   "execution_count": 4,
   "id": "d3992d34-6b2b-4ff6-af98-23a074506003",
   "metadata": {},
   "outputs": [
    {
     "data": {
      "text/plain": [
       "1000"
      ]
     },
     "execution_count": 4,
     "metadata": {},
     "output_type": "execute_result"
    }
   ],
   "source": [
    "len(car_sales_missing)"
   ]
  },
  {
   "cell_type": "code",
   "execution_count": 5,
   "id": "e09f8f65-748d-4ce0-8a55-d43a897aa1ad",
   "metadata": {},
   "outputs": [],
   "source": [
    "car_sales_missing.dropna(subset=[\"Price\"], inplace = True)"
   ]
  },
  {
   "cell_type": "code",
   "execution_count": 6,
   "id": "eb41bfbc-53da-4ab3-8107-b978a7e42a93",
   "metadata": {},
   "outputs": [
    {
     "data": {
      "text/plain": [
       "Make             47\n",
       "Colour           46\n",
       "Odometer (KM)    48\n",
       "Doors            47\n",
       "Price             0\n",
       "dtype: int64"
      ]
     },
     "execution_count": 6,
     "metadata": {},
     "output_type": "execute_result"
    }
   ],
   "source": [
    "car_sales_missing.isna().sum()"
   ]
  },
  {
   "cell_type": "code",
   "execution_count": 7,
   "id": "4fff9791-759e-4a1d-aa58-6da44080c676",
   "metadata": {},
   "outputs": [
    {
     "data": {
      "text/plain": [
       "950"
      ]
     },
     "execution_count": 7,
     "metadata": {},
     "output_type": "execute_result"
    }
   ],
   "source": [
    "# samples reduced\n",
    "len(car_sales_missing)"
   ]
  },
  {
   "cell_type": "markdown",
   "id": "9a43b3ae-45d8-4eb8-b7f7-0f91b39e3926",
   "metadata": {},
   "source": [
    "#### -> splitting data into X and y labels"
   ]
  },
  {
   "cell_type": "code",
   "execution_count": 8,
   "id": "27e39868-3e6c-44f7-af97-a746653c0b38",
   "metadata": {},
   "outputs": [],
   "source": [
    "X = car_sales_missing.drop(\"Price\", axis = 1)\n",
    "y = car_sales_missing[\"Price\"]"
   ]
  },
  {
   "cell_type": "markdown",
   "id": "55214622-b9b2-4f2c-9785-7affde48732e",
   "metadata": {},
   "source": [
    "#### -> filling empty spaces in X labels"
   ]
  },
  {
   "cell_type": "code",
   "execution_count": 9,
   "id": "270a9bdc-ba9d-4b34-afd7-b5563780423a",
   "metadata": {},
   "outputs": [],
   "source": [
    "cat_imputer = SimpleImputer(strategy=\"constant\", fill_value = \"missing\")\n",
    "door_imputer = SimpleImputer(strategy = \"constant\", fill_value = 4)\n",
    "num_imputer = SimpleImputer(strategy = \"mean\")"
   ]
  },
  {
   "cell_type": "code",
   "execution_count": 10,
   "id": "55512a2b-c629-44c2-b18e-68d0a09718c5",
   "metadata": {},
   "outputs": [],
   "source": [
    "#defining columns\n",
    "cat_features = [\"Make\", \"Colour\"]\n",
    "door_feature = [\"Doors\"]\n",
    "num_features = [\"Odometer (KM)\"]"
   ]
  },
  {
   "cell_type": "code",
   "execution_count": 11,
   "id": "37be2da8-e465-48d0-b99f-7828f8719c20",
   "metadata": {},
   "outputs": [],
   "source": [
    "# creating an imputer\n",
    "imputer = ColumnTransformer([\n",
    "            (\"cat_imputer\", cat_imputer, cat_features),\n",
    "            (\"num_imputer\", num_imputer, num_features),\n",
    "            (\"door_imputer\", door_imputer, door_feature)\n",
    "])"
   ]
  },
  {
   "cell_type": "code",
   "execution_count": 12,
   "id": "a91bcf4e-1beb-48e1-ad67-03470f42f000",
   "metadata": {},
   "outputs": [
    {
     "data": {
      "text/plain": [
       "array([['Honda', 'White', 35431.0, 4.0],\n",
       "       ['BMW', 'Blue', 192714.0, 5.0],\n",
       "       ['Honda', 'White', 84714.0, 4.0],\n",
       "       ...,\n",
       "       ['Nissan', 'Blue', 66604.0, 4.0],\n",
       "       ['Honda', 'White', 215883.0, 4.0],\n",
       "       ['Toyota', 'Blue', 248360.0, 4.0]], dtype=object)"
      ]
     },
     "execution_count": 12,
     "metadata": {},
     "output_type": "execute_result"
    }
   ],
   "source": [
    "# filling the empty spaces\n",
    "filled_X = imputer.fit_transform(X)\n",
    "filled_X"
   ]
  },
  {
   "cell_type": "code",
   "execution_count": 13,
   "id": "0fce396a-d15a-4185-9aac-ea3675baef06",
   "metadata": {},
   "outputs": [
    {
     "data": {
      "text/html": [
       "<div>\n",
       "<style scoped>\n",
       "    .dataframe tbody tr th:only-of-type {\n",
       "        vertical-align: middle;\n",
       "    }\n",
       "\n",
       "    .dataframe tbody tr th {\n",
       "        vertical-align: top;\n",
       "    }\n",
       "\n",
       "    .dataframe thead th {\n",
       "        text-align: right;\n",
       "    }\n",
       "</style>\n",
       "<table border=\"1\" class=\"dataframe\">\n",
       "  <thead>\n",
       "    <tr style=\"text-align: right;\">\n",
       "      <th></th>\n",
       "      <th>Make</th>\n",
       "      <th>Colour</th>\n",
       "      <th>Odometer (KM)</th>\n",
       "      <th>Doors</th>\n",
       "    </tr>\n",
       "  </thead>\n",
       "  <tbody>\n",
       "    <tr>\n",
       "      <th>0</th>\n",
       "      <td>Honda</td>\n",
       "      <td>White</td>\n",
       "      <td>35431.0</td>\n",
       "      <td>4.0</td>\n",
       "    </tr>\n",
       "    <tr>\n",
       "      <th>1</th>\n",
       "      <td>BMW</td>\n",
       "      <td>Blue</td>\n",
       "      <td>192714.0</td>\n",
       "      <td>5.0</td>\n",
       "    </tr>\n",
       "    <tr>\n",
       "      <th>2</th>\n",
       "      <td>Honda</td>\n",
       "      <td>White</td>\n",
       "      <td>84714.0</td>\n",
       "      <td>4.0</td>\n",
       "    </tr>\n",
       "    <tr>\n",
       "      <th>3</th>\n",
       "      <td>Toyota</td>\n",
       "      <td>White</td>\n",
       "      <td>154365.0</td>\n",
       "      <td>4.0</td>\n",
       "    </tr>\n",
       "    <tr>\n",
       "      <th>4</th>\n",
       "      <td>Nissan</td>\n",
       "      <td>Blue</td>\n",
       "      <td>181577.0</td>\n",
       "      <td>3.0</td>\n",
       "    </tr>\n",
       "    <tr>\n",
       "      <th>...</th>\n",
       "      <td>...</td>\n",
       "      <td>...</td>\n",
       "      <td>...</td>\n",
       "      <td>...</td>\n",
       "    </tr>\n",
       "    <tr>\n",
       "      <th>945</th>\n",
       "      <td>Toyota</td>\n",
       "      <td>Black</td>\n",
       "      <td>35820.0</td>\n",
       "      <td>4.0</td>\n",
       "    </tr>\n",
       "    <tr>\n",
       "      <th>946</th>\n",
       "      <td>missing</td>\n",
       "      <td>White</td>\n",
       "      <td>155144.0</td>\n",
       "      <td>3.0</td>\n",
       "    </tr>\n",
       "    <tr>\n",
       "      <th>947</th>\n",
       "      <td>Nissan</td>\n",
       "      <td>Blue</td>\n",
       "      <td>66604.0</td>\n",
       "      <td>4.0</td>\n",
       "    </tr>\n",
       "    <tr>\n",
       "      <th>948</th>\n",
       "      <td>Honda</td>\n",
       "      <td>White</td>\n",
       "      <td>215883.0</td>\n",
       "      <td>4.0</td>\n",
       "    </tr>\n",
       "    <tr>\n",
       "      <th>949</th>\n",
       "      <td>Toyota</td>\n",
       "      <td>Blue</td>\n",
       "      <td>248360.0</td>\n",
       "      <td>4.0</td>\n",
       "    </tr>\n",
       "  </tbody>\n",
       "</table>\n",
       "<p>950 rows × 4 columns</p>\n",
       "</div>"
      ],
      "text/plain": [
       "        Make Colour Odometer (KM) Doors\n",
       "0      Honda  White       35431.0   4.0\n",
       "1        BMW   Blue      192714.0   5.0\n",
       "2      Honda  White       84714.0   4.0\n",
       "3     Toyota  White      154365.0   4.0\n",
       "4     Nissan   Blue      181577.0   3.0\n",
       "..       ...    ...           ...   ...\n",
       "945   Toyota  Black       35820.0   4.0\n",
       "946  missing  White      155144.0   3.0\n",
       "947   Nissan   Blue       66604.0   4.0\n",
       "948    Honda  White      215883.0   4.0\n",
       "949   Toyota   Blue      248360.0   4.0\n",
       "\n",
       "[950 rows x 4 columns]"
      ]
     },
     "execution_count": 13,
     "metadata": {},
     "output_type": "execute_result"
    }
   ],
   "source": [
    "car_sales_filled = pd.DataFrame(filled_X, columns = [\"Make\", \"Colour\", \"Odometer (KM)\", \"Doors\"])\n",
    "car_sales_filled"
   ]
  },
  {
   "cell_type": "code",
   "execution_count": 14,
   "id": "5ddc381d-0ad5-45a2-bdff-7b4479ecee90",
   "metadata": {},
   "outputs": [
    {
     "data": {
      "text/plain": [
       "Make             0\n",
       "Colour           0\n",
       "Odometer (KM)    0\n",
       "Doors            0\n",
       "dtype: int64"
      ]
     },
     "execution_count": 14,
     "metadata": {},
     "output_type": "execute_result"
    }
   ],
   "source": [
    "car_sales_filled.isna().sum()"
   ]
  },
  {
   "cell_type": "markdown",
   "id": "efc5eae3-78cd-4626-a27f-3cf9350f6f4f",
   "metadata": {},
   "source": [
    "#### -> converting categorical columns into numerical columns"
   ]
  },
  {
   "cell_type": "code",
   "execution_count": 15,
   "id": "a62cd495-cb36-491e-a2f2-153b04598fe0",
   "metadata": {},
   "outputs": [],
   "source": [
    "one_hot = OneHotEncoder()"
   ]
  },
  {
   "cell_type": "code",
   "execution_count": 16,
   "id": "026a1c48-d3a6-471a-b60d-f5b555160412",
   "metadata": {},
   "outputs": [],
   "source": [
    "# defining columns\n",
    "categorical_features = [\"Make\", \"Colour\", \"Doors\"]"
   ]
  },
  {
   "cell_type": "code",
   "execution_count": 17,
   "id": "e3e2e194-f069-4550-9499-0f262e99f0af",
   "metadata": {},
   "outputs": [],
   "source": [
    "transformer = ColumnTransformer([(\"one_hot\",  one_hot, categorical_features)],\n",
    "                                remainder = \"passthrough\")"
   ]
  },
  {
   "cell_type": "code",
   "execution_count": 18,
   "id": "923b7c7c-d0ef-4a2b-8d8f-8bb7dea27848",
   "metadata": {},
   "outputs": [
    {
     "data": {
      "text/plain": [
       "<950x15 sparse matrix of type '<class 'numpy.float64'>'\n",
       "\twith 3800 stored elements in Compressed Sparse Row format>"
      ]
     },
     "execution_count": 18,
     "metadata": {},
     "output_type": "execute_result"
    }
   ],
   "source": [
    "transformed_X = transformer.fit_transform(car_sales_filled)\n",
    "transformed_X"
   ]
  },
  {
   "cell_type": "code",
   "execution_count": 19,
   "id": "6c17f6be-0d4a-4ceb-8c36-dde9d500a392",
   "metadata": {},
   "outputs": [
    {
     "data": {
      "text/html": [
       "<div>\n",
       "<style scoped>\n",
       "    .dataframe tbody tr th:only-of-type {\n",
       "        vertical-align: middle;\n",
       "    }\n",
       "\n",
       "    .dataframe tbody tr th {\n",
       "        vertical-align: top;\n",
       "    }\n",
       "\n",
       "    .dataframe thead th {\n",
       "        text-align: right;\n",
       "    }\n",
       "</style>\n",
       "<table border=\"1\" class=\"dataframe\">\n",
       "  <thead>\n",
       "    <tr style=\"text-align: right;\">\n",
       "      <th></th>\n",
       "      <th>0</th>\n",
       "    </tr>\n",
       "  </thead>\n",
       "  <tbody>\n",
       "    <tr>\n",
       "      <th>0</th>\n",
       "      <td>(0, 1)\\t1.0\\n  (0, 9)\\t1.0\\n  (0, 12)\\t1.0\\n...</td>\n",
       "    </tr>\n",
       "    <tr>\n",
       "      <th>1</th>\n",
       "      <td>(0, 0)\\t1.0\\n  (0, 6)\\t1.0\\n  (0, 13)\\t1.0\\n...</td>\n",
       "    </tr>\n",
       "    <tr>\n",
       "      <th>2</th>\n",
       "      <td>(0, 1)\\t1.0\\n  (0, 9)\\t1.0\\n  (0, 12)\\t1.0\\n...</td>\n",
       "    </tr>\n",
       "    <tr>\n",
       "      <th>3</th>\n",
       "      <td>(0, 3)\\t1.0\\n  (0, 9)\\t1.0\\n  (0, 12)\\t1.0\\n...</td>\n",
       "    </tr>\n",
       "    <tr>\n",
       "      <th>4</th>\n",
       "      <td>(0, 2)\\t1.0\\n  (0, 6)\\t1.0\\n  (0, 11)\\t1.0\\n...</td>\n",
       "    </tr>\n",
       "    <tr>\n",
       "      <th>...</th>\n",
       "      <td>...</td>\n",
       "    </tr>\n",
       "    <tr>\n",
       "      <th>945</th>\n",
       "      <td>(0, 3)\\t1.0\\n  (0, 5)\\t1.0\\n  (0, 12)\\t1.0\\n...</td>\n",
       "    </tr>\n",
       "    <tr>\n",
       "      <th>946</th>\n",
       "      <td>(0, 4)\\t1.0\\n  (0, 9)\\t1.0\\n  (0, 11)\\t1.0\\n...</td>\n",
       "    </tr>\n",
       "    <tr>\n",
       "      <th>947</th>\n",
       "      <td>(0, 2)\\t1.0\\n  (0, 6)\\t1.0\\n  (0, 12)\\t1.0\\n...</td>\n",
       "    </tr>\n",
       "    <tr>\n",
       "      <th>948</th>\n",
       "      <td>(0, 1)\\t1.0\\n  (0, 9)\\t1.0\\n  (0, 12)\\t1.0\\n...</td>\n",
       "    </tr>\n",
       "    <tr>\n",
       "      <th>949</th>\n",
       "      <td>(0, 3)\\t1.0\\n  (0, 6)\\t1.0\\n  (0, 12)\\t1.0\\n...</td>\n",
       "    </tr>\n",
       "  </tbody>\n",
       "</table>\n",
       "<p>950 rows × 1 columns</p>\n",
       "</div>"
      ],
      "text/plain": [
       "                                                     0\n",
       "0      (0, 1)\\t1.0\\n  (0, 9)\\t1.0\\n  (0, 12)\\t1.0\\n...\n",
       "1      (0, 0)\\t1.0\\n  (0, 6)\\t1.0\\n  (0, 13)\\t1.0\\n...\n",
       "2      (0, 1)\\t1.0\\n  (0, 9)\\t1.0\\n  (0, 12)\\t1.0\\n...\n",
       "3      (0, 3)\\t1.0\\n  (0, 9)\\t1.0\\n  (0, 12)\\t1.0\\n...\n",
       "4      (0, 2)\\t1.0\\n  (0, 6)\\t1.0\\n  (0, 11)\\t1.0\\n...\n",
       "..                                                 ...\n",
       "945    (0, 3)\\t1.0\\n  (0, 5)\\t1.0\\n  (0, 12)\\t1.0\\n...\n",
       "946    (0, 4)\\t1.0\\n  (0, 9)\\t1.0\\n  (0, 11)\\t1.0\\n...\n",
       "947    (0, 2)\\t1.0\\n  (0, 6)\\t1.0\\n  (0, 12)\\t1.0\\n...\n",
       "948    (0, 1)\\t1.0\\n  (0, 9)\\t1.0\\n  (0, 12)\\t1.0\\n...\n",
       "949    (0, 3)\\t1.0\\n  (0, 6)\\t1.0\\n  (0, 12)\\t1.0\\n...\n",
       "\n",
       "[950 rows x 1 columns]"
      ]
     },
     "execution_count": 19,
     "metadata": {},
     "output_type": "execute_result"
    }
   ],
   "source": [
    "pd.DataFrame(transformed_X)"
   ]
  },
  {
   "cell_type": "markdown",
   "id": "d44766ac-38cc-4102-8453-be1c80d32743",
   "metadata": {},
   "source": [
    "#### -> fitting the model (cross validation)"
   ]
  },
  {
   "cell_type": "code",
   "execution_count": 20,
   "id": "02edc033-4959-4d94-b490-d0949be4c346",
   "metadata": {},
   "outputs": [],
   "source": [
    "np.random.seed(42)"
   ]
  },
  {
   "cell_type": "code",
   "execution_count": 21,
   "id": "ec5843ff-4799-4ef3-b9dd-78109b8ad90a",
   "metadata": {},
   "outputs": [
    {
     "data": {
      "text/plain": [
       "array([0.15807138, 0.16866354, 0.30217153])"
      ]
     },
     "execution_count": 21,
     "metadata": {},
     "output_type": "execute_result"
    }
   ],
   "source": [
    "model = RandomForestRegressor()\n",
    "cross_val_score(model, transformed_X, y, cv=3)"
   ]
  },
  {
   "cell_type": "markdown",
   "id": "61fb9ce1-8e99-4f31-a36b-c1dc5093a14b",
   "metadata": {},
   "source": [
    "### -> evaluating the regression cv model"
   ]
  },
  {
   "cell_type": "code",
   "execution_count": 22,
   "id": "7e93371c-84ba-4986-a0a4-fe7575fb6be4",
   "metadata": {},
   "outputs": [
    {
     "data": {
      "text/plain": [
       "array([0.15370228, 0.18040009, 0.30570186])"
      ]
     },
     "execution_count": 22,
     "metadata": {},
     "output_type": "execute_result"
    }
   ],
   "source": [
    "# 1. r-squared\n",
    "cvs_r2 = cross_val_score(model, transformed_X, y, cv=3, scoring = None)\n",
    "cvs_r2"
   ]
  },
  {
   "cell_type": "code",
   "execution_count": 23,
   "id": "3a9ce0d2-557b-406c-ab1e-ab4b0652f0f6",
   "metadata": {},
   "outputs": [
    {
     "data": {
      "text/plain": [
       "0.2132680753705181"
      ]
     },
     "execution_count": 23,
     "metadata": {},
     "output_type": "execute_result"
    }
   ],
   "source": [
    "np.mean(cvs_r2)"
   ]
  },
  {
   "cell_type": "code",
   "execution_count": 24,
   "id": "638cef82-d014-460f-b752-ac376b4e1847",
   "metadata": {},
   "outputs": [
    {
     "data": {
      "text/plain": [
       "array([-56046476.10586293, -61277054.93903578, -58372599.51797462,\n",
       "       -44344291.71877205, -57344969.08705394, -44396271.97017809,\n",
       "       -50014430.40114077, -63015439.66347518, -73868508.69254376,\n",
       "       -49649248.19280922])"
      ]
     },
     "execution_count": 24,
     "metadata": {},
     "output_type": "execute_result"
    }
   ],
   "source": [
    "# 2. mean squared error\n",
    "cvs_mse = cross_val_score(model, transformed_X, y, cv=10, scoring=\"neg_mean_squared_error\")\n",
    "cvs_mse"
   ]
  },
  {
   "cell_type": "code",
   "execution_count": 25,
   "id": "267d6553-157c-4cf6-88c5-df52f7fcaa63",
   "metadata": {},
   "outputs": [
    {
     "data": {
      "text/plain": [
       "-55832929.028884634"
      ]
     },
     "execution_count": 25,
     "metadata": {},
     "output_type": "execute_result"
    }
   ],
   "source": [
    "np.mean(cvs_mse)"
   ]
  },
  {
   "cell_type": "code",
   "execution_count": 26,
   "id": "7e15ace7-e22a-443b-8da5-9dc370dc6be3",
   "metadata": {},
   "outputs": [
    {
     "data": {
      "text/plain": [
       "array([-6170.78915259, -6319.38705308, -6272.78004112, -5305.50696659,\n",
       "       -6187.57369264, -5268.00329379, -5580.27136566, -6304.92629093,\n",
       "       -6654.27707431, -5800.24140029])"
      ]
     },
     "execution_count": 26,
     "metadata": {},
     "output_type": "execute_result"
    }
   ],
   "source": [
    "# 3. mean absolute error\n",
    "cvs_mae = cross_val_score(model, transformed_X, y, cv=10, scoring = \"neg_mean_absolute_error\")\n",
    "cvs_mae"
   ]
  },
  {
   "cell_type": "code",
   "execution_count": 27,
   "id": "7cedb8a4-6495-433b-901a-6bf43238d086",
   "metadata": {},
   "outputs": [
    {
     "data": {
      "text/plain": [
       "-5986.375633100377"
      ]
     },
     "execution_count": 27,
     "metadata": {},
     "output_type": "execute_result"
    }
   ],
   "source": [
    "np.mean(cvs_mae)"
   ]
  }
 ],
 "metadata": {
  "kernelspec": {
   "display_name": "Python 3 (ipykernel)",
   "language": "python",
   "name": "python3"
  },
  "language_info": {
   "codemirror_mode": {
    "name": "ipython",
    "version": 3
   },
   "file_extension": ".py",
   "mimetype": "text/x-python",
   "name": "python",
   "nbconvert_exporter": "python",
   "pygments_lexer": "ipython3",
   "version": "3.12.4"
  }
 },
 "nbformat": 4,
 "nbformat_minor": 5
}
